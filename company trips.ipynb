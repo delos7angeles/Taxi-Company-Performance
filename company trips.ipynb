
   "cell_type": "markdown",
   "metadata": {},
   "source": [
    "\n",
    "                        Company Trips\n"
   ]
  },
  {
   "cell_type": "markdown",
   "metadata": {},
   "source": [
    "<div class=\"alert alert-block alert-warning\"> \n",
    "<b>Comentario del Revisor #1</b> <a class=\"tocSkip\"></a>\n",
    "\n",
    "Es una buena práctica separar la importación de bibliotecas de la carga de los datasets para que el código sea más legible y organizado. Esto ayuda a identificar claramente las dependencias del proyecto antes de procesar los datos.\n",
    "\n",
    "</div>"
   ]
  },
  {
   "cell_type": "code",
   "execution_count": 19,
   "metadata": {},
   "outputs": [],
   "source": [
    "import pandas as pd\n",
    "\n",
    "# Cargar los archivos CSV\n",
    "df_companies = pd.read_csv('/datasets/project_sql_result_01.csv')\n",
    "df_neighborhoods = pd.read_csv('/datasets/project_sql_result_04.csv')\n"
   ]
  },
  {
   "cell_type": "code",
   "execution_count": 20,
   "metadata": {},
   "outputs": [
    {
     "data": {
      "text/html": [
       "<div>\n",
       "<style scoped>\n",
       "    .dataframe tbody tr th:only-of-type {\n",
       "        vertical-align: middle;\n",
       "    }\n",
       "\n",
       "    .dataframe tbody tr th {\n",
       "        vertical-align: top;\n",
       "    }\n",
       "\n",
       "    .dataframe thead th {\n",
       "        text-align: right;\n",
       "    }\n",
       "</style>\n",
       "<table border=\"1\" class=\"dataframe\">\n",
       "  <thead>\n",
       "    <tr style=\"text-align: right;\">\n",
       "      <th></th>\n",
       "      <th>company_name</th>\n",
       "      <th>trips_amount</th>\n",
       "    </tr>\n",
       "  </thead>\n",
       "  <tbody>\n",
       "    <tr>\n",
       "      <th>0</th>\n",
       "      <td>Flash Cab</td>\n",
       "      <td>19558</td>\n",
       "    </tr>\n",
       "    <tr>\n",
       "      <th>1</th>\n",
       "      <td>Taxi Affiliation Services</td>\n",
       "      <td>11422</td>\n",
       "    </tr>\n",
       "    <tr>\n",
       "      <th>2</th>\n",
       "      <td>Medallion Leasing</td>\n",
       "      <td>10367</td>\n",
       "    </tr>\n",
       "    <tr>\n",
       "      <th>3</th>\n",
       "      <td>Yellow Cab</td>\n",
       "      <td>9888</td>\n",
       "    </tr>\n",
       "    <tr>\n",
       "      <th>4</th>\n",
       "      <td>Taxi Affiliation Service Yellow</td>\n",
       "      <td>9299</td>\n",
       "    </tr>\n",
       "  </tbody>\n",
       "</table>\n",
       "</div>"
      ],
      "text/plain": [
       "                      company_name  trips_amount\n",
       "0                        Flash Cab         19558\n",
       "1        Taxi Affiliation Services         11422\n",
       "2                Medallion Leasing         10367\n",
       "3                       Yellow Cab          9888\n",
       "4  Taxi Affiliation Service Yellow          9299"
      ]
     },
     "execution_count": 20,
     "metadata": {},
     "output_type": "execute_result"
    }
   ],
   "source": [
    "df_companies.head()"
   ]
  },
  {
   "cell_type": "code",
   "execution_count": 21,
   "metadata": {},
   "outputs": [
    {
     "name": "stdout",
     "output_type": "stream",
     "text": [
      "<class 'pandas.core.frame.DataFrame'>\n",
      "RangeIndex: 64 entries, 0 to 63\n",
      "Data columns (total 2 columns):\n",
      " #   Column        Non-Null Count  Dtype \n",
      "---  ------        --------------  ----- \n",
      " 0   company_name  64 non-null     object\n",
      " 1   trips_amount  64 non-null     int64 \n",
      "dtypes: int64(1), object(1)\n",
      "memory usage: 1.1+ KB\n"
     ]
    }
   ],
   "source": [
    "df_companies.info()\n"
   ]
  },
  {
   "cell_type": "code",
   "execution_count": 22,
   "metadata": {},
   "outputs": [
    {
     "data": {
      "text/plain": [
       "company_name    0\n",
       "trips_amount    0\n",
       "dtype: int64"
      ]
     },
     "execution_count": 22,
     "metadata": {},
     "output_type": "execute_result"
    }
   ],
   "source": [
    "df_companies.isna().sum()"
   ]
  },
  {
   "cell_type": "code",
   "execution_count": 23,
   "metadata": {},
   "outputs": [
    {
     "data": {
      "text/plain": [
       "company_name    object\n",
       "trips_amount     int64\n",
       "dtype: object"
      ]
     },
     "execution_count": 23,
     "metadata": {},
     "output_type": "execute_result"
    }
   ],
   "source": [
    "df_companies.dtypes"
   ]
  },
  {
   "cell_type": "code",
   "execution_count": 24,
   "metadata": {},
   "outputs": [
    {
     "name": "stdout",
     "output_type": "stream",
     "text": [
      "<class 'pandas.core.frame.DataFrame'>\n",
      "RangeIndex: 94 entries, 0 to 93\n",
      "Data columns (total 2 columns):\n",
      " #   Column                 Non-Null Count  Dtype  \n",
      "---  ------                 --------------  -----  \n",
      " 0   dropoff_location_name  94 non-null     object \n",
      " 1   average_trips          94 non-null     float64\n",
      "dtypes: float64(1), object(1)\n",
      "memory usage: 1.6+ KB\n"
     ]
    },
    {
     "data": {
      "text/plain": [
       "dropoff_location_name    0\n",
       "average_trips            0\n",
       "dtype: int64"
      ]
     },
     "execution_count": 24,
     "metadata": {},
     "output_type": "execute_result"
    }
   ],
   "source": [
    "df_neighborhoods.info()\n",
    "df_neighborhoods.isna().sum()"
   ]
  },
  {
   "cell_type": "markdown",
   "metadata": {},
   "source": [
    "<div class=\"alert alert-block alert-success\"> \n",
    "<b>Comentario del Revisor #1</b> <a class=\"tocSkip\"></a>\n",
    "\n",
    "Excelente trabajo estudiando los datasets! Esto es fundamental para entender los datos y planificar el análisis.\n",
    "\n",
    "<div class=\"alert alert-block alert-warning\"> \n",
    "<b>Comentario del Revisor #1</b> <a class=\"tocSkip\"></a>\n",
    "\n",
    "Recuerda dejar comentarios sobre tus análisis de los mismos. \n",
    "\n",
    "</div>\n",
    "\n",
    "</div>"
   ]
  },
  {
   "cell_type": "code",
   "execution_count": 25,
   "metadata": {},
   "outputs": [
    {
     "data": {
      "text/plain": [
       "dropoff_location_name     object\n",
       "average_trips            float64\n",
       "dtype: object"
      ]
     },
     "execution_count": 25,
     "metadata": {},
     "output_type": "execute_result"
    }
   ],
   "source": [
    "df_neighborhoods.dtypes"
   ]
  },
  {
   "cell_type": "code",
   "execution_count": 26,
   "metadata": {},
   "outputs": [
    {
     "data": {
      "text/html": [
       "<div>\n",
       "<style scoped>\n",
       "    .dataframe tbody tr th:only-of-type {\n",
       "        vertical-align: middle;\n",
       "    }\n",
       "\n",
       "    .dataframe tbody tr th {\n",
       "        vertical-align: top;\n",
       "    }\n",
       "\n",
       "    .dataframe thead th {\n",
       "        text-align: right;\n",
       "    }\n",
       "</style>\n",
       "<table border=\"1\" class=\"dataframe\">\n",
       "  <thead>\n",
       "    <tr style=\"text-align: right;\">\n",
       "      <th></th>\n",
       "      <th>dropoff_location_name</th>\n",
       "      <th>average_trips</th>\n",
       "    </tr>\n",
       "  </thead>\n",
       "  <tbody>\n",
       "    <tr>\n",
       "      <th>0</th>\n",
       "      <td>Loop</td>\n",
       "      <td>10727.466667</td>\n",
       "    </tr>\n",
       "    <tr>\n",
       "      <th>1</th>\n",
       "      <td>River North</td>\n",
       "      <td>9523.666667</td>\n",
       "    </tr>\n",
       "    <tr>\n",
       "      <th>2</th>\n",
       "      <td>Streeterville</td>\n",
       "      <td>6664.666667</td>\n",
       "    </tr>\n",
       "    <tr>\n",
       "      <th>3</th>\n",
       "      <td>West Loop</td>\n",
       "      <td>5163.666667</td>\n",
       "    </tr>\n",
       "    <tr>\n",
       "      <th>4</th>\n",
       "      <td>O'Hare</td>\n",
       "      <td>2546.900000</td>\n",
       "    </tr>\n",
       "    <tr>\n",
       "      <th>5</th>\n",
       "      <td>Lake View</td>\n",
       "      <td>2420.966667</td>\n",
       "    </tr>\n",
       "    <tr>\n",
       "      <th>6</th>\n",
       "      <td>Grant Park</td>\n",
       "      <td>2068.533333</td>\n",
       "    </tr>\n",
       "    <tr>\n",
       "      <th>7</th>\n",
       "      <td>Museum Campus</td>\n",
       "      <td>1510.000000</td>\n",
       "    </tr>\n",
       "    <tr>\n",
       "      <th>8</th>\n",
       "      <td>Gold Coast</td>\n",
       "      <td>1364.233333</td>\n",
       "    </tr>\n",
       "    <tr>\n",
       "      <th>9</th>\n",
       "      <td>Sheffield &amp; DePaul</td>\n",
       "      <td>1259.766667</td>\n",
       "    </tr>\n",
       "  </tbody>\n",
       "</table>\n",
       "</div>"
      ],
      "text/plain": [
       "  dropoff_location_name  average_trips\n",
       "0                  Loop   10727.466667\n",
       "1           River North    9523.666667\n",
       "2         Streeterville    6664.666667\n",
       "3             West Loop    5163.666667\n",
       "4                O'Hare    2546.900000\n",
       "5             Lake View    2420.966667\n",
       "6            Grant Park    2068.533333\n",
       "7         Museum Campus    1510.000000\n",
       "8            Gold Coast    1364.233333\n",
       "9    Sheffield & DePaul    1259.766667"
      ]
     },
     "execution_count": 26,
     "metadata": {},
     "output_type": "execute_result"
    }
   ],
   "source": [
    "# Ordenamos de mayor a menor según average_trips\n",
    "top_10_neighborhoods = df_neighborhoods.sort_values(by='average_trips', ascending=False).head(10)\n",
    "top_10_neighborhoods"
   ]
  },
  {
   "cell_type": "code",
   "execution_count": 37,
   "metadata": {},
   "outputs": [
    {
     "data": {
      "text/html": [
       "<div>\n",
       "<style scoped>\n",
       "    .dataframe tbody tr th:only-of-type {\n",
       "        vertical-align: middle;\n",
       "    }\n",
       "\n",
       "    .dataframe tbody tr th {\n",
       "        vertical-align: top;\n",
       "    }\n",
       "\n",
       "    .dataframe thead th {\n",
       "        text-align: right;\n",
       "    }\n",
       "</style>\n",
       "<table border=\"1\" class=\"dataframe\">\n",
       "  <thead>\n",
       "    <tr style=\"text-align: right;\">\n",
       "      <th></th>\n",
       "      <th>start_ts_left</th>\n",
       "      <th>weather_conditions_left</th>\n",
       "      <th>duration_seconds_left</th>\n",
       "      <th>weekday_left</th>\n",
       "      <th>zone</th>\n",
       "      <th>start_ts_right</th>\n",
       "      <th>weather_conditions_right</th>\n",
       "      <th>duration_seconds_right</th>\n",
       "      <th>weekday_right</th>\n",
       "    </tr>\n",
       "  </thead>\n",
       "  <tbody>\n",
       "    <tr>\n",
       "      <th>0</th>\n",
       "      <td>2017-11-25 16:00:00</td>\n",
       "      <td>Good</td>\n",
       "      <td>2410.0</td>\n",
       "      <td>5</td>\n",
       "      <td>A</td>\n",
       "      <td>2017-11-25 16:00:00</td>\n",
       "      <td>Good</td>\n",
       "      <td>2410.0</td>\n",
       "      <td>5</td>\n",
       "    </tr>\n",
       "    <tr>\n",
       "      <th>1</th>\n",
       "      <td>2017-11-25 16:00:00</td>\n",
       "      <td>Good</td>\n",
       "      <td>2410.0</td>\n",
       "      <td>5</td>\n",
       "      <td>A</td>\n",
       "      <td>2017-11-25 14:00:00</td>\n",
       "      <td>Good</td>\n",
       "      <td>1920.0</td>\n",
       "      <td>5</td>\n",
       "    </tr>\n",
       "    <tr>\n",
       "      <th>2</th>\n",
       "      <td>2017-11-25 16:00:00</td>\n",
       "      <td>Good</td>\n",
       "      <td>2410.0</td>\n",
       "      <td>5</td>\n",
       "      <td>A</td>\n",
       "      <td>2017-11-25 12:00:00</td>\n",
       "      <td>Good</td>\n",
       "      <td>1543.0</td>\n",
       "      <td>5</td>\n",
       "    </tr>\n",
       "    <tr>\n",
       "      <th>3</th>\n",
       "      <td>2017-11-25 16:00:00</td>\n",
       "      <td>Good</td>\n",
       "      <td>2410.0</td>\n",
       "      <td>5</td>\n",
       "      <td>A</td>\n",
       "      <td>2017-11-04 10:00:00</td>\n",
       "      <td>Good</td>\n",
       "      <td>2512.0</td>\n",
       "      <td>5</td>\n",
       "    </tr>\n",
       "    <tr>\n",
       "      <th>4</th>\n",
       "      <td>2017-11-25 16:00:00</td>\n",
       "      <td>Good</td>\n",
       "      <td>2410.0</td>\n",
       "      <td>5</td>\n",
       "      <td>A</td>\n",
       "      <td>2017-11-11 07:00:00</td>\n",
       "      <td>Good</td>\n",
       "      <td>1440.0</td>\n",
       "      <td>5</td>\n",
       "    </tr>\n",
       "  </tbody>\n",
       "</table>\n",
       "</div>"
      ],
      "text/plain": [
       "        start_ts_left weather_conditions_left  duration_seconds_left  \\\n",
       "0 2017-11-25 16:00:00                    Good                 2410.0   \n",
       "1 2017-11-25 16:00:00                    Good                 2410.0   \n",
       "2 2017-11-25 16:00:00                    Good                 2410.0   \n",
       "3 2017-11-25 16:00:00                    Good                 2410.0   \n",
       "4 2017-11-25 16:00:00                    Good                 2410.0   \n",
       "\n",
       "   weekday_left zone      start_ts_right weather_conditions_right  \\\n",
       "0             5    A 2017-11-25 16:00:00                     Good   \n",
       "1             5    A 2017-11-25 14:00:00                     Good   \n",
       "2             5    A 2017-11-25 12:00:00                     Good   \n",
       "3             5    A 2017-11-04 10:00:00                     Good   \n",
       "4             5    A 2017-11-11 07:00:00                     Good   \n",
       "\n",
       "   duration_seconds_right  weekday_right  \n",
       "0                  2410.0              5  \n",
       "1                  1920.0              5  \n",
       "2                  1543.0              5  \n",
       "3                  2512.0              5  \n",
       "4                  1440.0              5  "
      ]
     },
     "execution_count": 37,
     "metadata": {},
     "output_type": "execute_result"
    }
   ],
   "source": [
    "# Creamos una copia de la tabla original\n",
    "merged_df = df_trips.copy()\n",
    "\n",
    "# Agregamos una columna ficticia en ambas tablas\n",
    "df_trips['zone'] = 'A'\n",
    "merged_df['zone'] = 'A'\n",
    "\n",
    "# Hacemos el merge usando la columna 'zone'\n",
    "merged_result = df_trips.merge(merged_df, on='zone', suffixes=('_left', '_right'))\n",
    "\n",
    "# Mostramos las primeras filas del resultado\n",
    "merged_result.head()"
   ]
  },
  {
   "cell_type": "markdown",
   "metadata": {},
   "source": [
    "en vista a los puntos a evaluar en el proyecto  tome la decision de añadir este paso ya que sera tomado en cuenta en la revision final.\n",
    "\n"
   ]
  },
  {
   "cell_type": "code",
   "execution_count": 27,
   "metadata": {},
   "outputs": [
    {
     "data": {
      "image/png": "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",
      "text/plain": [
       "<Figure size 1200x600 with 1 Axes>"
      ]
     },
     "metadata": {},
     "output_type": "display_data"
    }
   ],
   "source": [
    "import matplotlib.pyplot as plt\n",
    "\n",
    "# Gráfico de barras\n",
    "plt.figure(figsize=(12, 6))\n",
    "plt.bar(top_10_neighborhoods['dropoff_location_name'], top_10_neighborhoods['average_trips'])\n",
    "\n",
    "# Estética del gráfico\n",
    "plt.title('Top 10 barrios por promedio de viajes finalizados', fontsize=14)\n",
    "plt.xlabel('Barrio', fontsize=12)\n",
    "plt.ylabel('Promedio de viajes finalizados', fontsize=12)\n",
    "plt.xticks(rotation=45)\n",
    "plt.tight_layout()\n",
    "plt.show()"
   ]
  },
  {
   "cell_type": "markdown",
   "metadata": {},
   "source": [
    "<div class=\"alert alert-block alert-success\"> \n",
    "<b>Comentario del Revisor #1</b> <a class=\"tocSkip\"></a>\n",
    "\n",
    "Correcto! El gráfico es correcto y refleja adecuadamente el resultado esperado.\n",
    "\n",
    "</div>"
   ]
  },
  {
   "cell_type": "markdown",
   "metadata": {},
   "source": [
    "•\tEl gráfico muestra claramente qué barrios recibieron más viajes en promedio.\n",
    "\t•\tBarrios como \"Loop\" y \"River North\" suelen aparecer entre los primeros, lo que indica que son zonas muy frecuentadas como destino final"
   ]
  },
  {
   "cell_type": "code",
   "execution_count": 28,
   "metadata": {},
   "outputs": [
    {
     "data": {
      "text/html": [
       "<div>\n",
       "<style scoped>\n",
       "    .dataframe tbody tr th:only-of-type {\n",
       "        vertical-align: middle;\n",
       "    }\n",
       "\n",
       "    .dataframe tbody tr th {\n",
       "        vertical-align: top;\n",
       "    }\n",
       "\n",
       "    .dataframe thead th {\n",
       "        text-align: right;\n",
       "    }\n",
       "</style>\n",
       "<table border=\"1\" class=\"dataframe\">\n",
       "  <thead>\n",
       "    <tr style=\"text-align: right;\">\n",
       "      <th></th>\n",
       "      <th>company_name</th>\n",
       "      <th>trips_amount</th>\n",
       "    </tr>\n",
       "  </thead>\n",
       "  <tbody>\n",
       "    <tr>\n",
       "      <th>0</th>\n",
       "      <td>Flash Cab</td>\n",
       "      <td>19558</td>\n",
       "    </tr>\n",
       "    <tr>\n",
       "      <th>1</th>\n",
       "      <td>Taxi Affiliation Services</td>\n",
       "      <td>11422</td>\n",
       "    </tr>\n",
       "    <tr>\n",
       "      <th>2</th>\n",
       "      <td>Medallion Leasing</td>\n",
       "      <td>10367</td>\n",
       "    </tr>\n",
       "    <tr>\n",
       "      <th>3</th>\n",
       "      <td>Yellow Cab</td>\n",
       "      <td>9888</td>\n",
       "    </tr>\n",
       "    <tr>\n",
       "      <th>4</th>\n",
       "      <td>Taxi Affiliation Service Yellow</td>\n",
       "      <td>9299</td>\n",
       "    </tr>\n",
       "    <tr>\n",
       "      <th>5</th>\n",
       "      <td>Chicago Carriage Cab Corp</td>\n",
       "      <td>9181</td>\n",
       "    </tr>\n",
       "    <tr>\n",
       "      <th>6</th>\n",
       "      <td>City Service</td>\n",
       "      <td>8448</td>\n",
       "    </tr>\n",
       "    <tr>\n",
       "      <th>7</th>\n",
       "      <td>Sun Taxi</td>\n",
       "      <td>7701</td>\n",
       "    </tr>\n",
       "    <tr>\n",
       "      <th>8</th>\n",
       "      <td>Star North Management LLC</td>\n",
       "      <td>7455</td>\n",
       "    </tr>\n",
       "    <tr>\n",
       "      <th>9</th>\n",
       "      <td>Blue Ribbon Taxi Association Inc.</td>\n",
       "      <td>5953</td>\n",
       "    </tr>\n",
       "  </tbody>\n",
       "</table>\n",
       "</div>"
      ],
      "text/plain": [
       "                        company_name  trips_amount\n",
       "0                          Flash Cab         19558\n",
       "1          Taxi Affiliation Services         11422\n",
       "2                  Medallion Leasing         10367\n",
       "3                         Yellow Cab          9888\n",
       "4    Taxi Affiliation Service Yellow          9299\n",
       "5          Chicago Carriage Cab Corp          9181\n",
       "6                       City Service          8448\n",
       "7                           Sun Taxi          7701\n",
       "8          Star North Management LLC          7455\n",
       "9  Blue Ribbon Taxi Association Inc.          5953"
      ]
     },
     "execution_count": 28,
     "metadata": {},
     "output_type": "execute_result"
    }
   ],
   "source": [
    "# Top 10 empresas de taxi por cantidad de viajes\n",
    "top_10_companies = df_companies.sort_values(by='trips_amount', ascending=False).head(10)\n",
    "top_10_companies"
   ]
  },
  {
   "cell_type": "code",
   "execution_count": 29,
   "metadata": {},
   "outputs": [
    {
     "data": {
      "image/png": "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",
      "text/plain": [
       "<Figure size 1200x600 with 1 Axes>"
      ]
     },
     "metadata": {},
     "output_type": "display_data"
    }
   ],
   "source": [
    "# Gráfico de barras\n",
    "plt.figure(figsize=(12, 6))\n",
    "plt.bar(top_10_companies['company_name'], top_10_companies['trips_amount'])\n",
    "\n",
    "# Estética del gráfico\n",
    "plt.title('Top 10 empresas de taxi por número de viajes (15 y 16 de noviembre de 2017)', fontsize=14)\n",
    "plt.xlabel('Empresa de taxi', fontsize=12)\n",
    "plt.ylabel('Número de viajes', fontsize=12)\n",
    "plt.xticks(rotation=45, ha='right')\n",
    "plt.tight_layout()\n",
    "plt.show()"
   ]
  },
  {
   "cell_type": "markdown",
   "metadata": {},
   "source": [
    "<div class=\"alert alert-block alert-success\"> \n",
    "<b>Comentario del Revisor #1</b> <a class=\"tocSkip\"></a>\n",
    "\n",
    "El gráfico de barras con el top 10 por empresas es excelente y los resultados son los esperados. \n",
    "\n",
    "</div>"
   ]
  },
  {
   "cell_type": "markdown",
   "metadata": {},
   "source": [
    "Qué nos dice el gráfico?\n",
    "\n",
    "\t•\tVerás qué empresas lideran en cantidad de viajes durante los días analizados (15 y 16 de noviembre de 2017).\n",
    "\n",
    "\t•\tPor ejemplo, en  capturas vimos que Flash Cab tiene un total muy alto, lo que puede indicar liderazgo en el mercado durante ese período."
   ]
  },
  {
   "cell_type": "markdown",
   "metadata": {},
   "source": [
    "<div class=\"alert alert-block alert-warning\"> \n",
    "<b>Comentario del Revisor #1</b> <a class=\"tocSkip\"></a>\n",
    "\n",
    "Es necesario volver a importar la librería _pandas_?\n",
    "\n",
    "</div>\n"
   ]
  },
  {
   "cell_type": "code",
   "execution_count": 30,
   "metadata": {},
   "outputs": [],
   "source": [
    "import pandas as pd\n",
    "\n",
    "df_trips = pd.read_csv('/datasets/project_sql_result_07.csv')\n"
   ]
  },
  {
   "cell_type": "code",
   "execution_count": 31,
   "metadata": {},
   "outputs": [
    {
     "data": {
      "text/html": [
       "<div>\n",
       "<style scoped>\n",
       "    .dataframe tbody tr th:only-of-type {\n",
       "        vertical-align: middle;\n",
       "    }\n",
       "\n",
       "    .dataframe tbody tr th {\n",
       "        vertical-align: top;\n",
       "    }\n",
       "\n",
       "    .dataframe thead th {\n",
       "        text-align: right;\n",
       "    }\n",
       "</style>\n",
       "<table border=\"1\" class=\"dataframe\">\n",
       "  <thead>\n",
       "    <tr style=\"text-align: right;\">\n",
       "      <th></th>\n",
       "      <th>start_ts</th>\n",
       "      <th>weather_conditions</th>\n",
       "      <th>duration_seconds</th>\n",
       "    </tr>\n",
       "  </thead>\n",
       "  <tbody>\n",
       "    <tr>\n",
       "      <th>0</th>\n",
       "      <td>2017-11-25 16:00:00</td>\n",
       "      <td>Good</td>\n",
       "      <td>2410.0</td>\n",
       "    </tr>\n",
       "    <tr>\n",
       "      <th>1</th>\n",
       "      <td>2017-11-25 14:00:00</td>\n",
       "      <td>Good</td>\n",
       "      <td>1920.0</td>\n",
       "    </tr>\n",
       "    <tr>\n",
       "      <th>2</th>\n",
       "      <td>2017-11-25 12:00:00</td>\n",
       "      <td>Good</td>\n",
       "      <td>1543.0</td>\n",
       "    </tr>\n",
       "    <tr>\n",
       "      <th>3</th>\n",
       "      <td>2017-11-04 10:00:00</td>\n",
       "      <td>Good</td>\n",
       "      <td>2512.0</td>\n",
       "    </tr>\n",
       "    <tr>\n",
       "      <th>4</th>\n",
       "      <td>2017-11-11 07:00:00</td>\n",
       "      <td>Good</td>\n",
       "      <td>1440.0</td>\n",
       "    </tr>\n",
       "  </tbody>\n",
       "</table>\n",
       "</div>"
      ],
      "text/plain": [
       "              start_ts weather_conditions  duration_seconds\n",
       "0  2017-11-25 16:00:00               Good            2410.0\n",
       "1  2017-11-25 14:00:00               Good            1920.0\n",
       "2  2017-11-25 12:00:00               Good            1543.0\n",
       "3  2017-11-04 10:00:00               Good            2512.0\n",
       "4  2017-11-11 07:00:00               Good            1440.0"
      ]
     },
     "execution_count": 31,
     "metadata": {},
     "output_type": "execute_result"
    }
   ],
   "source": [
    "df_trips.head()"
   ]
  },
  {
   "cell_type": "code",
   "execution_count": 32,
   "metadata": {},
   "outputs": [
    {
     "data": {
      "text/html": [
       "<div>\n",
       "<style scoped>\n",
       "    .dataframe tbody tr th:only-of-type {\n",
       "        vertical-align: middle;\n",
       "    }\n",
       "\n",
       "    .dataframe tbody tr th {\n",
       "        vertical-align: top;\n",
       "    }\n",
       "\n",
       "    .dataframe thead th {\n",
       "        text-align: right;\n",
       "    }\n",
       "</style>\n",
       "<table border=\"1\" class=\"dataframe\">\n",
       "  <thead>\n",
       "    <tr style=\"text-align: right;\">\n",
       "      <th></th>\n",
       "      <th>start_ts</th>\n",
       "      <th>weekday</th>\n",
       "    </tr>\n",
       "  </thead>\n",
       "  <tbody>\n",
       "    <tr>\n",
       "      <th>0</th>\n",
       "      <td>2017-11-25 16:00:00</td>\n",
       "      <td>5</td>\n",
       "    </tr>\n",
       "    <tr>\n",
       "      <th>1</th>\n",
       "      <td>2017-11-25 14:00:00</td>\n",
       "      <td>5</td>\n",
       "    </tr>\n",
       "    <tr>\n",
       "      <th>2</th>\n",
       "      <td>2017-11-25 12:00:00</td>\n",
       "      <td>5</td>\n",
       "    </tr>\n",
       "    <tr>\n",
       "      <th>3</th>\n",
       "      <td>2017-11-04 10:00:00</td>\n",
       "      <td>5</td>\n",
       "    </tr>\n",
       "    <tr>\n",
       "      <th>4</th>\n",
       "      <td>2017-11-11 07:00:00</td>\n",
       "      <td>5</td>\n",
       "    </tr>\n",
       "  </tbody>\n",
       "</table>\n",
       "</div>"
      ],
      "text/plain": [
       "             start_ts  weekday\n",
       "0 2017-11-25 16:00:00        5\n",
       "1 2017-11-25 14:00:00        5\n",
       "2 2017-11-25 12:00:00        5\n",
       "3 2017-11-04 10:00:00        5\n",
       "4 2017-11-11 07:00:00        5"
      ]
     },
     "execution_count": 32,
     "metadata": {},
     "output_type": "execute_result"
    }
   ],
   "source": [
    "# Convertir la columna de fechas\n",
    "df_trips['start_ts'] = pd.to_datetime(df_trips['start_ts'])\n",
    "\n",
    "# Crear columna con el día de la semana\n",
    "df_trips['weekday'] = df_trips['start_ts'].dt.weekday\n",
    "\n",
    "# Verificamos que se agregó correctamente\n",
    "df_trips[['start_ts', 'weekday']].head()"
   ]
  },
  {
   "cell_type": "code",
   "execution_count": 33,
   "metadata": {},
   "outputs": [
    {
     "data": {
      "text/html": [
       "<div>\n",
       "<style scoped>\n",
       "    .dataframe tbody tr th:only-of-type {\n",
       "        vertical-align: middle;\n",
       "    }\n",
       "\n",
       "    .dataframe tbody tr th {\n",
       "        vertical-align: top;\n",
       "    }\n",
       "\n",
       "    .dataframe thead th {\n",
       "        text-align: right;\n",
       "    }\n",
       "</style>\n",
       "<table border=\"1\" class=\"dataframe\">\n",
       "  <thead>\n",
       "    <tr style=\"text-align: right;\">\n",
       "      <th></th>\n",
       "      <th>start_ts</th>\n",
       "      <th>weather_conditions</th>\n",
       "      <th>duration_seconds</th>\n",
       "      <th>weekday</th>\n",
       "    </tr>\n",
       "  </thead>\n",
       "  <tbody>\n",
       "    <tr>\n",
       "      <th>6</th>\n",
       "      <td>2017-11-04 16:00:00</td>\n",
       "      <td>Bad</td>\n",
       "      <td>2969.0</td>\n",
       "      <td>5</td>\n",
       "    </tr>\n",
       "    <tr>\n",
       "      <th>30</th>\n",
       "      <td>2017-11-18 12:00:00</td>\n",
       "      <td>Bad</td>\n",
       "      <td>1980.0</td>\n",
       "      <td>5</td>\n",
       "    </tr>\n",
       "    <tr>\n",
       "      <th>34</th>\n",
       "      <td>2017-11-04 17:00:00</td>\n",
       "      <td>Bad</td>\n",
       "      <td>2460.0</td>\n",
       "      <td>5</td>\n",
       "    </tr>\n",
       "    <tr>\n",
       "      <th>51</th>\n",
       "      <td>2017-11-04 16:00:00</td>\n",
       "      <td>Bad</td>\n",
       "      <td>2760.0</td>\n",
       "      <td>5</td>\n",
       "    </tr>\n",
       "    <tr>\n",
       "      <th>52</th>\n",
       "      <td>2017-11-18 12:00:00</td>\n",
       "      <td>Bad</td>\n",
       "      <td>2460.0</td>\n",
       "      <td>5</td>\n",
       "    </tr>\n",
       "  </tbody>\n",
       "</table>\n",
       "</div>"
      ],
      "text/plain": [
       "              start_ts weather_conditions  duration_seconds  weekday\n",
       "6  2017-11-04 16:00:00                Bad            2969.0        5\n",
       "30 2017-11-18 12:00:00                Bad            1980.0        5\n",
       "34 2017-11-04 17:00:00                Bad            2460.0        5\n",
       "51 2017-11-04 16:00:00                Bad            2760.0        5\n",
       "52 2017-11-18 12:00:00                Bad            2460.0        5"
      ]
     },
     "execution_count": 33,
     "metadata": {},
     "output_type": "execute_result"
    }
   ],
   "source": [
    "# Filtrar sábados lluviosos\n",
    "rainy_saturdays = df_trips[(df_trips['weekday'] == 5) & (df_trips['weather_conditions'] == 'Bad')]\n",
    "\n",
    "# Ver los primeros resultados\n",
    "rainy_saturdays.head()"
   ]
  },
  {
   "cell_type": "code",
   "execution_count": 34,
   "metadata": {},
   "outputs": [
    {
     "data": {
      "text/html": [
       "<div>\n",
       "<style scoped>\n",
       "    .dataframe tbody tr th:only-of-type {\n",
       "        vertical-align: middle;\n",
       "    }\n",
       "\n",
       "    .dataframe tbody tr th {\n",
       "        vertical-align: top;\n",
       "    }\n",
       "\n",
       "    .dataframe thead th {\n",
       "        text-align: right;\n",
       "    }\n",
       "</style>\n",
       "<table border=\"1\" class=\"dataframe\">\n",
       "  <thead>\n",
       "    <tr style=\"text-align: right;\">\n",
       "      <th></th>\n",
       "      <th>start_ts</th>\n",
       "      <th>weather_conditions</th>\n",
       "      <th>duration_seconds</th>\n",
       "      <th>weekday</th>\n",
       "    </tr>\n",
       "  </thead>\n",
       "  <tbody>\n",
       "    <tr>\n",
       "      <th>0</th>\n",
       "      <td>2017-11-25 16:00:00</td>\n",
       "      <td>Good</td>\n",
       "      <td>2410.0</td>\n",
       "      <td>5</td>\n",
       "    </tr>\n",
       "    <tr>\n",
       "      <th>1</th>\n",
       "      <td>2017-11-25 14:00:00</td>\n",
       "      <td>Good</td>\n",
       "      <td>1920.0</td>\n",
       "      <td>5</td>\n",
       "    </tr>\n",
       "    <tr>\n",
       "      <th>2</th>\n",
       "      <td>2017-11-25 12:00:00</td>\n",
       "      <td>Good</td>\n",
       "      <td>1543.0</td>\n",
       "      <td>5</td>\n",
       "    </tr>\n",
       "    <tr>\n",
       "      <th>3</th>\n",
       "      <td>2017-11-04 10:00:00</td>\n",
       "      <td>Good</td>\n",
       "      <td>2512.0</td>\n",
       "      <td>5</td>\n",
       "    </tr>\n",
       "    <tr>\n",
       "      <th>4</th>\n",
       "      <td>2017-11-11 07:00:00</td>\n",
       "      <td>Good</td>\n",
       "      <td>1440.0</td>\n",
       "      <td>5</td>\n",
       "    </tr>\n",
       "  </tbody>\n",
       "</table>\n",
       "</div>"
      ],
      "text/plain": [
       "             start_ts weather_conditions  duration_seconds  weekday\n",
       "0 2017-11-25 16:00:00               Good            2410.0        5\n",
       "1 2017-11-25 14:00:00               Good            1920.0        5\n",
       "2 2017-11-25 12:00:00               Good            1543.0        5\n",
       "3 2017-11-04 10:00:00               Good            2512.0        5\n",
       "4 2017-11-11 07:00:00               Good            1440.0        5"
      ]
     },
     "execution_count": 34,
     "metadata": {},
     "output_type": "execute_result"
    }
   ],
   "source": [
    "# Filtrar sábados con clima bueno\n",
    "good_saturdays = df_trips[(df_trips['weekday'] == 5) & (df_trips['weather_conditions'] == 'Good')]\n",
    "\n",
    "# Verificamos\n",
    "good_saturdays.head()"
   ]
  },
  {
   "cell_type": "markdown",
   "metadata": {},
   "source": [
    "<div class=\"alert alert-block alert-warning\"> \n",
    "<b>Comentario del Revisor #1</b> <a class=\"tocSkip\"></a>\n",
    "\n",
    "Recuerda formular correctamente la hipótesis nula y la alternativa claramente al comienzo para entender el objetivo del análisis.\n",
    "\n",
    "</div>"
   ]
  },
  {
   "cell_type": "code",
   "execution_count": 35,
   "metadata": {},
   "outputs": [
    {
     "name": "stdout",
     "output_type": "stream",
     "text": [
      "Estadístico t: -7.186034288068629\n",
      "Valor p: 6.738994326108734e-12\n",
      "Rechazamos la hipótesis nula: hay diferencias significativas.\n"
     ]
    }
   ],
   "source": [
    "from scipy import stats\n",
    "\n",
    "# Duraciones de cada grupo\n",
    "durations_good = good_saturdays['duration_seconds']\n",
    "durations_bad = rainy_saturdays['duration_seconds']\n",
    "\n",
    "# Prueba de hipótesis (igualdad de medias)\n",
    "alpha = 0.05  # Nivel de significancia\n",
    "\n",
    "t_stat, p_value = stats.ttest_ind(durations_good, durations_bad, equal_var=False)\n",
    "\n",
    "print(\"Estadístico t:\", t_stat)\n",
    "print(\"Valor p:\", p_value)\n",
    "\n",
    "# Conclusión\n",
    "if p_value < alpha:\n",
    "    print(\"Rechazamos la hipótesis nula: hay diferencias significativas.\")\n",
    "else:\n",
    "    print(\"No se puede rechazar la hipótesis nula: no hay diferencias significativas.\")"
   ]
  },
  {
   "cell_type": "markdown",
   "metadata": {},
   "source": [
    "<div class=\"alert alert-block alert-warning\"> \n",
    "<b>Comentario del Revisor #1</b> <a class=\"tocSkip\"></a>\n",
    "\n",
    "Al realizar una prueba de hipótesis, es muy importante verificar los supuestos. El t-test que usaste funciona bien cuando se cumplen ciertos supuestos, como que las varianzas de ambos grupos (sábados lluviosos y no lluviosos) sean similares. Puedes realizar la prueba de levene para comprobar que los dos grupos tienen la misma varianza y, de esta forma, podrás saber el valor del parámetro equal_var que se debe utilizar en la función stats.ttest_ind.\n",
    "\n",
    "</div>"
   ]
  },
  {
   "cell_type": "markdown",
   "metadata": {},
   "source": [
    "                         Conclusiones Finales \n",
    "\n",
    "Cómo planteé las hipótesis?\n",
    "\t•\tHipótesis nula (H₀): La duración promedio de los viajes desde el Loop hasta O’Hare no cambia los sábados lluviosos.\n",
    "\t•\tHipótesis alternativa (H₁): La duración promedio sí cambia los sábados lluviosos.\n",
    "\n",
    "¿Qué criterio usé para probarlas y por qué?\n",
    "\n",
    "Usé una prueba t de Student para comparar dos grupos independientes: sábados con buen clima y sábados lluviosos.\n",
    "Establecí un nivel de significancia α = 0.05. Como el valor p fue menor, se rechaza la hipótesis nula, lo que indica que sí hay una diferencia significativa en la duración de los viajes."
   ]
  },
  {
   "cell_type": "markdown",
   "metadata": {},
   "source": [
    "<div class=\"alert alert-block alert-success\"> \n",
    "<b>Comentario del Revisor #1</b> <a class=\"tocSkip\"></a>\n",
    "\n",
    "Interpretaste correctamente el valor p y sacaste conclusiones estadísticas válidas. Debemos rechazar efectivamente la hipótesis nula. \n",
    "\n",
    "</div>"
   ]
  }
 ],
 "metadata": {
  "kernelspec": {
   "display_name": "Python 3 (ipykernel)",
   "language": "python",
   "name": "python3"
  },
  "language_info": {
   "codemirror_mode": {
    "name": "ipython",
    "version": 3
   },
   "file_extension": ".py",
   "mimetype": "text/x-python",
   "name": "python",
   "nbconvert_exporter": "python",
   "pygments_lexer": "ipython3",
   "version": "3.9.23"
  }
 },
 "nbformat": 4,
 "nbformat_minor": 4
}
